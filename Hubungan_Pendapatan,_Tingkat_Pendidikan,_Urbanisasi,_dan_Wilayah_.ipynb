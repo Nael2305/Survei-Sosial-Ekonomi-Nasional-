{
  "cells": [
    {
      "cell_type": "markdown",
      "metadata": {
        "id": "S15uFi8vu46b"
      },
      "source": [
        "### Hubungan Pendapatan, Tingkat Pendidikan, Urbanisasi, dan Wilayah"
      ]
    },
    {
      "cell_type": "markdown",
      "metadata": {
        "id": "eVp-YRjqu46d"
      },
      "source": []
    },
    {
      "cell_type": "markdown",
      "metadata": {
        "id": "GCXT0iQWu46f"
      },
      "source": [
        "**Modules & Setup**"
      ]
    },
    {
      "cell_type": "code",
      "execution_count": null,
      "metadata": {
        "colab": {
          "base_uri": "https://localhost:8080/",
          "height": 206
        },
        "id": "HpwNYmX0u46g",
        "outputId": "f6e6245b-651d-44c8-b044-7be6a9b99089"
      },
      "outputs": [
        {
          "output_type": "execute_result",
          "data": {
            "text/plain": [
              "           region1 region2    exp_cap  log_exp_cap  perc_urban  perc_formal  \\\n",
              "0  Indonesia Barat    Jawa  646385.88    13.379152    0.193047     0.183248   \n",
              "1  Indonesia Barat    Jawa  706967.25    13.468740    0.296873     0.233462   \n",
              "2  Indonesia Barat    Jawa  715120.56    13.480206    0.401314     0.376168   \n",
              "3  Indonesia Barat    Jawa  729812.81    13.500544    0.300492     0.461951   \n",
              "4  Indonesia Barat    Jawa  739466.88    13.513685    0.301216     0.336419   \n",
              "\n",
              "   perc_smp  perc_sma  \n",
              "0  0.231933  0.122379  \n",
              "1  0.345096  0.209374  \n",
              "2  0.281570  0.154622  \n",
              "3  0.271773  0.131751  \n",
              "4  0.359085  0.169089  "
            ],
            "text/html": [
              "\n",
              "  <div id=\"df-6f52bdc5-d194-4391-806a-c7f87eb9a8aa\">\n",
              "    <div class=\"colab-df-container\">\n",
              "      <div>\n",
              "<style scoped>\n",
              "    .dataframe tbody tr th:only-of-type {\n",
              "        vertical-align: middle;\n",
              "    }\n",
              "\n",
              "    .dataframe tbody tr th {\n",
              "        vertical-align: top;\n",
              "    }\n",
              "\n",
              "    .dataframe thead th {\n",
              "        text-align: right;\n",
              "    }\n",
              "</style>\n",
              "<table border=\"1\" class=\"dataframe\">\n",
              "  <thead>\n",
              "    <tr style=\"text-align: right;\">\n",
              "      <th></th>\n",
              "      <th>region1</th>\n",
              "      <th>region2</th>\n",
              "      <th>exp_cap</th>\n",
              "      <th>log_exp_cap</th>\n",
              "      <th>perc_urban</th>\n",
              "      <th>perc_formal</th>\n",
              "      <th>perc_smp</th>\n",
              "      <th>perc_sma</th>\n",
              "    </tr>\n",
              "  </thead>\n",
              "  <tbody>\n",
              "    <tr>\n",
              "      <th>0</th>\n",
              "      <td>Indonesia Barat</td>\n",
              "      <td>Jawa</td>\n",
              "      <td>646385.88</td>\n",
              "      <td>13.379152</td>\n",
              "      <td>0.193047</td>\n",
              "      <td>0.183248</td>\n",
              "      <td>0.231933</td>\n",
              "      <td>0.122379</td>\n",
              "    </tr>\n",
              "    <tr>\n",
              "      <th>1</th>\n",
              "      <td>Indonesia Barat</td>\n",
              "      <td>Jawa</td>\n",
              "      <td>706967.25</td>\n",
              "      <td>13.468740</td>\n",
              "      <td>0.296873</td>\n",
              "      <td>0.233462</td>\n",
              "      <td>0.345096</td>\n",
              "      <td>0.209374</td>\n",
              "    </tr>\n",
              "    <tr>\n",
              "      <th>2</th>\n",
              "      <td>Indonesia Barat</td>\n",
              "      <td>Jawa</td>\n",
              "      <td>715120.56</td>\n",
              "      <td>13.480206</td>\n",
              "      <td>0.401314</td>\n",
              "      <td>0.376168</td>\n",
              "      <td>0.281570</td>\n",
              "      <td>0.154622</td>\n",
              "    </tr>\n",
              "    <tr>\n",
              "      <th>3</th>\n",
              "      <td>Indonesia Barat</td>\n",
              "      <td>Jawa</td>\n",
              "      <td>729812.81</td>\n",
              "      <td>13.500544</td>\n",
              "      <td>0.300492</td>\n",
              "      <td>0.461951</td>\n",
              "      <td>0.271773</td>\n",
              "      <td>0.131751</td>\n",
              "    </tr>\n",
              "    <tr>\n",
              "      <th>4</th>\n",
              "      <td>Indonesia Barat</td>\n",
              "      <td>Jawa</td>\n",
              "      <td>739466.88</td>\n",
              "      <td>13.513685</td>\n",
              "      <td>0.301216</td>\n",
              "      <td>0.336419</td>\n",
              "      <td>0.359085</td>\n",
              "      <td>0.169089</td>\n",
              "    </tr>\n",
              "  </tbody>\n",
              "</table>\n",
              "</div>\n",
              "      <button class=\"colab-df-convert\" onclick=\"convertToInteractive('df-6f52bdc5-d194-4391-806a-c7f87eb9a8aa')\"\n",
              "              title=\"Convert this dataframe to an interactive table.\"\n",
              "              style=\"display:none;\">\n",
              "        \n",
              "  <svg xmlns=\"http://www.w3.org/2000/svg\" height=\"24px\"viewBox=\"0 0 24 24\"\n",
              "       width=\"24px\">\n",
              "    <path d=\"M0 0h24v24H0V0z\" fill=\"none\"/>\n",
              "    <path d=\"M18.56 5.44l.94 2.06.94-2.06 2.06-.94-2.06-.94-.94-2.06-.94 2.06-2.06.94zm-11 1L8.5 8.5l.94-2.06 2.06-.94-2.06-.94L8.5 2.5l-.94 2.06-2.06.94zm10 10l.94 2.06.94-2.06 2.06-.94-2.06-.94-.94-2.06-.94 2.06-2.06.94z\"/><path d=\"M17.41 7.96l-1.37-1.37c-.4-.4-.92-.59-1.43-.59-.52 0-1.04.2-1.43.59L10.3 9.45l-7.72 7.72c-.78.78-.78 2.05 0 2.83L4 21.41c.39.39.9.59 1.41.59.51 0 1.02-.2 1.41-.59l7.78-7.78 2.81-2.81c.8-.78.8-2.07 0-2.86zM5.41 20L4 18.59l7.72-7.72 1.47 1.35L5.41 20z\"/>\n",
              "  </svg>\n",
              "      </button>\n",
              "      \n",
              "  <style>\n",
              "    .colab-df-container {\n",
              "      display:flex;\n",
              "      flex-wrap:wrap;\n",
              "      gap: 12px;\n",
              "    }\n",
              "\n",
              "    .colab-df-convert {\n",
              "      background-color: #E8F0FE;\n",
              "      border: none;\n",
              "      border-radius: 50%;\n",
              "      cursor: pointer;\n",
              "      display: none;\n",
              "      fill: #1967D2;\n",
              "      height: 32px;\n",
              "      padding: 0 0 0 0;\n",
              "      width: 32px;\n",
              "    }\n",
              "\n",
              "    .colab-df-convert:hover {\n",
              "      background-color: #E2EBFA;\n",
              "      box-shadow: 0px 1px 2px rgba(60, 64, 67, 0.3), 0px 1px 3px 1px rgba(60, 64, 67, 0.15);\n",
              "      fill: #174EA6;\n",
              "    }\n",
              "\n",
              "    [theme=dark] .colab-df-convert {\n",
              "      background-color: #3B4455;\n",
              "      fill: #D2E3FC;\n",
              "    }\n",
              "\n",
              "    [theme=dark] .colab-df-convert:hover {\n",
              "      background-color: #434B5C;\n",
              "      box-shadow: 0px 1px 3px 1px rgba(0, 0, 0, 0.15);\n",
              "      filter: drop-shadow(0px 1px 2px rgba(0, 0, 0, 0.3));\n",
              "      fill: #FFFFFF;\n",
              "    }\n",
              "  </style>\n",
              "\n",
              "      <script>\n",
              "        const buttonEl =\n",
              "          document.querySelector('#df-6f52bdc5-d194-4391-806a-c7f87eb9a8aa button.colab-df-convert');\n",
              "        buttonEl.style.display =\n",
              "          google.colab.kernel.accessAllowed ? 'block' : 'none';\n",
              "\n",
              "        async function convertToInteractive(key) {\n",
              "          const element = document.querySelector('#df-6f52bdc5-d194-4391-806a-c7f87eb9a8aa');\n",
              "          const dataTable =\n",
              "            await google.colab.kernel.invokeFunction('convertToInteractive',\n",
              "                                                     [key], {});\n",
              "          if (!dataTable) return;\n",
              "\n",
              "          const docLinkHtml = 'Like what you see? Visit the ' +\n",
              "            '<a target=\"_blank\" href=https://colab.research.google.com/notebooks/data_table.ipynb>data table notebook</a>'\n",
              "            + ' to learn more about interactive tables.';\n",
              "          element.innerHTML = '';\n",
              "          dataTable['output_type'] = 'display_data';\n",
              "          await google.colab.output.renderOutput(dataTable, element);\n",
              "          const docLink = document.createElement('div');\n",
              "          docLink.innerHTML = docLinkHtml;\n",
              "          element.appendChild(docLink);\n",
              "        }\n",
              "      </script>\n",
              "    </div>\n",
              "  </div>\n",
              "  "
            ]
          },
          "metadata": {},
          "execution_count": 5
        }
      ],
      "source": [
        "from statsmodels.compat import lzip\n",
        "import pandas as pd\n",
        "import numpy as np\n",
        "import statsmodels.api as sm\n",
        "import matplotlib.pyplot as plt\n",
        "import seaborn as sns\n",
        "from scipy import stats\n",
        "from statsmodels.formula.api import ols\n",
        "from statsmodels.formula.api import rlm\n",
        "from statsmodels.stats.outliers_influence import variance_inflation_factor\n",
        "import statsmodels.stats.api as sms\n",
        "\n",
        "df = pd.read_csv(\"homework_4.csv\")\n",
        "df.head()"
      ]
    },
    {
      "cell_type": "markdown",
      "metadata": {
        "id": "tNCH4sfeu46j"
      },
      "source": [
        "**1. *Scatterplot***\n",
        "\n",
        "Asumsikan bahwa variabel `log_exp_cap` digunakan untuk merepresentasikan tingkat pendapatan per kapita, sedangkan variabel `perc_smp` digunakan untuk merepresentasikan tingkat pendidikan. Lakukan inspeksi data secara visual terlebih dahulu dengan melihat *scatterplot* yang menunjukkan korelasi antara `log_exp_cap` dan `perc_smp`, `log_exp_cap` dan `perc_urban`, serta `perc_smp` dan `perc_urban`."
      ]
    },
    {
      "cell_type": "code",
      "execution_count": null,
      "metadata": {
        "colab": {
          "base_uri": "https://localhost:8080/",
          "height": 1000
        },
        "id": "feoHeXAku46j",
        "outputId": "633f983a-ff87-4d53-d337-ae38e3eda3a9"
      },
      "outputs": [
        {
          "output_type": "execute_result",
          "data": {
            "text/plain": [
              "<seaborn.axisgrid.FacetGrid at 0x7fa81a787610>"
            ]
          },
          "metadata": {},
          "execution_count": 6
        },
        {
          "output_type": "display_data",
          "data": {
            "text/plain": [
              "<Figure size 360x360 with 1 Axes>"
            ],
            "image/png": "[encoded data removed]"
          },
          "metadata": {
            "needs_background": "light"
          }
        },
        {
          "output_type": "display_data",
          "data": {
            "text/plain": [
              "<Figure size 360x360 with 1 Axes>"
            ],
            "image/png": "[encoded data removed]"
          },
          "metadata": {
            "needs_background": "light"
          }
        },
        {
          "output_type": "display_data",
          "data": {
            "text/plain": [
              "<Figure size 360x360 with 1 Axes>"
            ],
            "image/png": "[encoded data removed]"
          },
          "metadata": {
            "needs_background": "light"
          }
        }
      ],
      "source": [
        "sns.lmplot(x=\"perc_smp\", y=\"log_exp_cap\", data=df, scatter_kws={\"s\": 1})\n",
        "sns.lmplot(x=\"perc_urban\", y=\"log_exp_cap\", data=df, scatter_kws={\"s\": 1})\n",
        "sns.lmplot(x=\"perc_urban\", y=\"perc_smp\", data=df, scatter_kws={\"s\": 1})"
      ]
    },
    {
      "cell_type": "markdown",
      "metadata": {
        "id": "QtkGX1cBu46k"
      },
      "source": [
        "**2. *Converting categorical variable into dummy variable***\n",
        "\n",
        "Ubah kolom variabel `region1` menjadi *dummy variable* dengan `region1 = 0` untuk \"Indonesia Timur\" dan `region1 = 1` untuk \"Indonesia Barat\"."
      ]
    },
    {
      "cell_type": "code",
      "execution_count": null,
      "metadata": {
        "id": "csFfD3DRu46k"
      },
      "outputs": [],
      "source": [
        "df['region1'] = df['region1'].map({'Indonesia Timur': 0, 'Indonesia Barat': 1})"
      ]
    },
    {
      "cell_type": "markdown",
      "metadata": {
        "id": "oAN2jbI8u46l"
      },
      "source": [
        "**3. *Converting categorical variable into dummy variable***\n",
        "Ubah kolom variabel `region2` menjadi *dummy variable* dengan `region2 = 0` untuk wilayah \"Sumatera\", `region2 = 1` untuk wilayah \"Jawa\", `region2 = 2` untuk wilayah \"Kalimantan\", `region2 = 3` untuk wilayah \"Bali & Nusa Tenggara\", `region2 = 4` untuk wilayah \"Sulawesi\", dan `region2 = 5` untuk wilayah \"Maluku & Papua\"."
      ]
    },
    {
      "cell_type": "code",
      "execution_count": null,
      "metadata": {
        "id": "IU1FZhNsu46l"
      },
      "outputs": [],
      "source": [
        "df['region2'] = df['region2'].map({'Sumatera': 0, 'Jawa': 1, 'Kalimantan': 2, 'Bali & Nusa Tenggara': 3, 'Sulawesi': 4, 'Maluku & Papua': 5})"
      ]
    },
    {
      "cell_type": "markdown",
      "metadata": {
        "id": "AL85n4J7u46m"
      },
      "source": [
        "**4. *Creating dummy variable from numerical variable***\n",
        "\n",
        "Ciptakan *dummy variable* baru `urban` untuk menandakan apakah suatu kota/kabupaten memiliki tingkat urbanisasi rendah, menengah, atau tinggi. Kabupaten/kota memiliki tingkat urbanisasi rendah (`urban = 0`) jika persentase penduduk di kabupaten/kota yang tinggal di daerah perkotaan kurang dari 20%, memiliki tingkat urbanisasi menengah (`urban = 1`) jika persentase bernilai 20% sampai 60%, dan memiliki tingkat urbanisasi tinggi (`urban = 2`) jika persentase lebih dari 60%."
      ]
    },
    {
      "cell_type": "code",
      "execution_count": null,
      "metadata": {
        "id": "GqIRurqhu46m"
      },
      "outputs": [],
      "source": [
        "df = df.assign(urban=pd.cut(df['perc_urban'],\n",
        "                               bins=[-0.1, 0.2, 0.6, 1.0], labels=range(3)))"
      ]
    },
    {
      "cell_type": "markdown",
      "metadata": {
        "id": "bE6_KkkJu46m"
      },
      "source": [
        "**5. Lakukan regresi `exp_cap` terhadap variabel `perc_smp`,`perc_sma`, `urban`, dan `region2` sesuai *functional form* ($\\delta$ adalah parameter untuk *dummy*) **$\\text{Income}_i=\\beta_0 + \\beta_1\\text{SMP}_i + \\beta_2\\text{SMA}_i + \\sum_{n=0}^2\\delta_n\\text{Urban}_{n,i} + \\sum_{r=0}^6\\delta_r\\text{Region2}_{r,i} + u_i$. **Lakukan pula tes heteroskedastisitas dan tes multikolinearitas**\n",
        "\n",
        "**5a. *Basic Regression***"
      ]
    },
    {
      "cell_type": "code",
      "execution_count": null,
      "metadata": {
        "colab": {
          "base_uri": "https://localhost:8080/"
        },
        "id": "HCCp-qHXu46n",
        "outputId": "0fa31410-614a-4681-9e49-58d5544261e8"
      },
      "outputs": [
        {
          "output_type": "stream",
          "name": "stdout",
          "text": [
            "                            OLS Regression Results                            \n",
            "==============================================================================\n",
            "Dep. Variable:                exp_cap   R-squared:                       0.677\n",
            "Model:                            OLS   Adj. R-squared:                  0.671\n",
            "Method:                 Least Squares   F-statistic:                     113.7\n",
            "Date:                Sun, 27 Mar 2022   Prob (F-statistic):          8.38e-114\n",
            "Time:                        16:10:22   Log-Likelihood:                -6751.6\n",
            "No. Observations:                 498   AIC:                         1.352e+04\n",
            "Df Residuals:                     488   BIC:                         1.357e+04\n",
            "Df Model:                           9                                         \n",
            "Covariance Type:            nonrobust                                         \n",
            "===================================================================================\n",
            "                      coef    std err          t      P>|t|      [0.025      0.975]\n",
            "-----------------------------------------------------------------------------------\n",
            "Intercept        5.172e+05   7.63e+04      6.778      0.000    3.67e+05    6.67e+05\n",
            "C(urban)[T.1]    2.973e+04   2.22e+04      1.340      0.181   -1.39e+04    7.33e+04\n",
            "C(urban)[T.2]    1.409e+05   3.79e+04      3.718      0.000    6.64e+04    2.15e+05\n",
            "C(region2)[T.1]   4.48e+04   2.53e+04      1.771      0.077   -4904.176    9.45e+04\n",
            "C(region2)[T.2]  2.374e+05   2.94e+04      8.068      0.000     1.8e+05    2.95e+05\n",
            "C(region2)[T.3] -9.376e+04   3.59e+04     -2.609      0.009   -1.64e+05   -2.32e+04\n",
            "C(region2)[T.4] -1.031e+05   2.59e+04     -3.988      0.000   -1.54e+05   -5.23e+04\n",
            "C(region2)[T.5] -1.416e+05   4.41e+04     -3.210      0.001   -2.28e+05   -5.49e+04\n",
            "perc_smp        -5.879e+05    4.2e+05     -1.401      0.162   -1.41e+06    2.37e+05\n",
            "perc_sma         2.906e+06   4.43e+05      6.561      0.000    2.04e+06    3.78e+06\n",
            "==============================================================================\n",
            "Omnibus:                       43.382   Durbin-Watson:                   1.305\n",
            "Prob(Omnibus):                  0.000   Jarque-Bera (JB):               61.362\n",
            "Skew:                           0.642   Prob(JB):                     4.74e-14\n",
            "Kurtosis:                       4.145   Cond. No.                         93.1\n",
            "==============================================================================\n",
            "\n",
            "Warnings:\n",
            "[1] Standard Errors assume that the covariance matrix of the errors is correctly specified.\n"
          ]
        }
      ],
      "source": [
        "mod = ols(\"exp_cap ~ perc_smp + perc_sma + C(urban) + C(region2)\", data = df)\n",
        "res_1 = mod.fit()\n",
        "print(res_1.summary())"
      ]
    },
    {
      "cell_type": "markdown",
      "metadata": {
        "id": "Xd1kEgBku46n"
      },
      "source": [
        "**5b. *Heteroskedasticity Test (Breusch-Pagan Test)***"
      ]
    },
    {
      "cell_type": "code",
      "execution_count": null,
      "metadata": {
        "colab": {
          "base_uri": "https://localhost:8080/",
          "height": 175
        },
        "id": "Jl7HIbHcu46n",
        "outputId": "d5117a48-724f-4e2f-a190-788a3360e9c7"
      },
      "outputs": [
        {
          "output_type": "execute_result",
          "data": {
            "text/plain": [
              "                           Tests        Values\n",
              "0  Lagrange multiplier statistic  5.327755e+01\n",
              "1                        p-value  2.589225e-08\n",
              "2                        f-value  6.495798e+00\n",
              "3                      f p-value  9.323221e-09"
            ],
            "text/html": [
              "\n",
              "  <div id=\"df-8ff056bb-a872-4a0d-aa11-f499cb8cbac2\">\n",
              "    <div class=\"colab-df-container\">\n",
              "      <div>\n",
              "<style scoped>\n",
              "    .dataframe tbody tr th:only-of-type {\n",
              "        vertical-align: middle;\n",
              "    }\n",
              "\n",
              "    .dataframe tbody tr th {\n",
              "        vertical-align: top;\n",
              "    }\n",
              "\n",
              "    .dataframe thead th {\n",
              "        text-align: right;\n",
              "    }\n",
              "</style>\n",
              "<table border=\"1\" class=\"dataframe\">\n",
              "  <thead>\n",
              "    <tr style=\"text-align: right;\">\n",
              "      <th></th>\n",
              "      <th>Tests</th>\n",
              "      <th>Values</th>\n",
              "    </tr>\n",
              "  </thead>\n",
              "  <tbody>\n",
              "    <tr>\n",
              "      <th>0</th>\n",
              "      <td>Lagrange multiplier statistic</td>\n",
              "      <td>5.327755e+01</td>\n",
              "    </tr>\n",
              "    <tr>\n",
              "      <th>1</th>\n",
              "      <td>p-value</td>\n",
              "      <td>2.589225e-08</td>\n",
              "    </tr>\n",
              "    <tr>\n",
              "      <th>2</th>\n",
              "      <td>f-value</td>\n",
              "      <td>6.495798e+00</td>\n",
              "    </tr>\n",
              "    <tr>\n",
              "      <th>3</th>\n",
              "      <td>f p-value</td>\n",
              "      <td>9.323221e-09</td>\n",
              "    </tr>\n",
              "  </tbody>\n",
              "</table>\n",
              "</div>\n",
              "      <button class=\"colab-df-convert\" onclick=\"convertToInteractive('df-8ff056bb-a872-4a0d-aa11-f499cb8cbac2')\"\n",
              "              title=\"Convert this dataframe to an interactive table.\"\n",
              "              style=\"display:none;\">\n",
              "        \n",
              "  <svg xmlns=\"http://www.w3.org/2000/svg\" height=\"24px\"viewBox=\"0 0 24 24\"\n",
              "       width=\"24px\">\n",
              "    <path d=\"M0 0h24v24H0V0z\" fill=\"none\"/>\n",
              "    <path d=\"M18.56 5.44l.94 2.06.94-2.06 2.06-.94-2.06-.94-.94-2.06-.94 2.06-2.06.94zm-11 1L8.5 8.5l.94-2.06 2.06-.94-2.06-.94L8.5 2.5l-.94 2.06-2.06.94zm10 10l.94 2.06.94-2.06 2.06-.94-2.06-.94-.94-2.06-.94 2.06-2.06.94z\"/><path d=\"M17.41 7.96l-1.37-1.37c-.4-.4-.92-.59-1.43-.59-.52 0-1.04.2-1.43.59L10.3 9.45l-7.72 7.72c-.78.78-.78 2.05 0 2.83L4 21.41c.39.39.9.59 1.41.59.51 0 1.02-.2 1.41-.59l7.78-7.78 2.81-2.81c.8-.78.8-2.07 0-2.86zM5.41 20L4 18.59l7.72-7.72 1.47 1.35L5.41 20z\"/>\n",
              "  </svg>\n",
              "      </button>\n",
              "      \n",
              "  <style>\n",
              "    .colab-df-container {\n",
              "      display:flex;\n",
              "      flex-wrap:wrap;\n",
              "      gap: 12px;\n",
              "    }\n",
              "\n",
              "    .colab-df-convert {\n",
              "      background-color: #E8F0FE;\n",
              "      border: none;\n",
              "      border-radius: 50%;\n",
              "      cursor: pointer;\n",
              "      display: none;\n",
              "      fill: #1967D2;\n",
              "      height: 32px;\n",
              "      padding: 0 0 0 0;\n",
              "      width: 32px;\n",
              "    }\n",
              "\n",
              "    .colab-df-convert:hover {\n",
              "      background-color: #E2EBFA;\n",
              "      box-shadow: 0px 1px 2px rgba(60, 64, 67, 0.3), 0px 1px 3px 1px rgba(60, 64, 67, 0.15);\n",
              "      fill: #174EA6;\n",
              "    }\n",
              "\n",
              "    [theme=dark] .colab-df-convert {\n",
              "      background-color: #3B4455;\n",
              "      fill: #D2E3FC;\n",
              "    }\n",
              "\n",
              "    [theme=dark] .colab-df-convert:hover {\n",
              "      background-color: #434B5C;\n",
              "      box-shadow: 0px 1px 3px 1px rgba(0, 0, 0, 0.15);\n",
              "      filter: drop-shadow(0px 1px 2px rgba(0, 0, 0, 0.3));\n",
              "      fill: #FFFFFF;\n",
              "    }\n",
              "  </style>\n",
              "\n",
              "      <script>\n",
              "        const buttonEl =\n",
              "          document.querySelector('#df-8ff056bb-a872-4a0d-aa11-f499cb8cbac2 button.colab-df-convert');\n",
              "        buttonEl.style.display =\n",
              "          google.colab.kernel.accessAllowed ? 'block' : 'none';\n",
              "\n",
              "        async function convertToInteractive(key) {\n",
              "          const element = document.querySelector('#df-8ff056bb-a872-4a0d-aa11-f499cb8cbac2');\n",
              "          const dataTable =\n",
              "            await google.colab.kernel.invokeFunction('convertToInteractive',\n",
              "                                                     [key], {});\n",
              "          if (!dataTable) return;\n",
              "\n",
              "          const docLinkHtml = 'Like what you see? Visit the ' +\n",
              "            '<a target=\"_blank\" href=https://colab.research.google.com/notebooks/data_table.ipynb>data table notebook</a>'\n",
              "            + ' to learn more about interactive tables.';\n",
              "          element.innerHTML = '';\n",
              "          dataTable['output_type'] = 'display_data';\n",
              "          await google.colab.output.renderOutput(dataTable, element);\n",
              "          const docLink = document.createElement('div');\n",
              "          docLink.innerHTML = docLinkHtml;\n",
              "          element.appendChild(docLink);\n",
              "        }\n",
              "      </script>\n",
              "    </div>\n",
              "  </div>\n",
              "  "
            ]
          },
          "metadata": {},
          "execution_count": 11
        }
      ],
      "source": [
        "hettest = pd.DataFrame()\n",
        "\n",
        "hettest[\"Tests\"] = ['Lagrange multiplier statistic', 'p-value',\n",
        "        'f-value', 'f p-value']\n",
        "hettest[\"Values\"] = sms.het_breuschpagan(res_1.resid, res_1.model.exog)\n",
        "hettest"
      ]
    },
    {
      "cell_type": "code",
      "source": [
        "out = pd.DataFrame()\n",
        "out[\"y\"] = res_1.resid\n",
        "out[\"x\"] = res_1.fittedvalues\n",
        "\n",
        "sns.lmplot(x=\"x\", y=\"y\", data=out, scatter_kws={\"s\": 1})\n"
      ],
      "metadata": {
        "colab": {
          "base_uri": "https://localhost:8080/",
          "height": 387
        },
        "id": "MpfpYR3fJfzc",
        "outputId": "e4f62803-0780-41e7-aae9-5e3fde4518b6"
      },
      "execution_count": null,
      "outputs": [
        {
          "output_type": "execute_result",
          "data": {
            "text/plain": [
              "<seaborn.axisgrid.FacetGrid at 0x7fa81a79bf10>"
            ]
          },
          "metadata": {},
          "execution_count": 12
        },
        {
          "output_type": "display_data",
          "data": {
            "text/plain": [
              "<Figure size 360x360 with 1 Axes>"
            ],
            "image/png": "[encoded data removed]"
          },
          "metadata": {
            "needs_background": "light"
          }
        }
      ]
    },
    {
      "cell_type": "markdown",
      "metadata": {
        "id": "BSoUgGhEu46n"
      },
      "source": [
        "**5c. *Multicollinearity Test (Variance Inflation Factor)***"
      ]
    },
    {
      "cell_type": "code",
      "execution_count": null,
      "metadata": {
        "colab": {
          "base_uri": "https://localhost:8080/",
          "height": 363
        },
        "id": "YETBj7r0u46n",
        "outputId": "7155ac3c-d087-4bc6-eb4e-8631947470c1"
      },
      "outputs": [
        {
          "output_type": "execute_result",
          "data": {
            "text/plain": [
              "         Variables        VIF\n",
              "0        Intercept  81.313391\n",
              "1    C(urban)[T.1]   1.719214\n",
              "2    C(urban)[T.2]   3.730082\n",
              "3  C(region2)[T.1]   1.624932\n",
              "4  C(region2)[T.2]   1.206611\n",
              "5  C(region2)[T.3]   1.301353\n",
              "6  C(region2)[T.4]   1.271064\n",
              "7  C(region2)[T.5]   1.097858\n",
              "8         perc_smp  20.850568\n",
              "9         perc_sma  22.331008"
            ],
            "text/html": [
              "\n",
              "  <div id=\"df-32c7f79a-57d4-4cbb-88df-9872bb2fef66\">\n",
              "    <div class=\"colab-df-container\">\n",
              "      <div>\n",
              "<style scoped>\n",
              "    .dataframe tbody tr th:only-of-type {\n",
              "        vertical-align: middle;\n",
              "    }\n",
              "\n",
              "    .dataframe tbody tr th {\n",
              "        vertical-align: top;\n",
              "    }\n",
              "\n",
              "    .dataframe thead th {\n",
              "        text-align: right;\n",
              "    }\n",
              "</style>\n",
              "<table border=\"1\" class=\"dataframe\">\n",
              "  <thead>\n",
              "    <tr style=\"text-align: right;\">\n",
              "      <th></th>\n",
              "      <th>Variables</th>\n",
              "      <th>VIF</th>\n",
              "    </tr>\n",
              "  </thead>\n",
              "  <tbody>\n",
              "    <tr>\n",
              "      <th>0</th>\n",
              "      <td>Intercept</td>\n",
              "      <td>81.313391</td>\n",
              "    </tr>\n",
              "    <tr>\n",
              "      <th>1</th>\n",
              "      <td>C(urban)[T.1]</td>\n",
              "      <td>1.719214</td>\n",
              "    </tr>\n",
              "    <tr>\n",
              "      <th>2</th>\n",
              "      <td>C(urban)[T.2]</td>\n",
              "      <td>3.730082</td>\n",
              "    </tr>\n",
              "    <tr>\n",
              "      <th>3</th>\n",
              "      <td>C(region2)[T.1]</td>\n",
              "      <td>1.624932</td>\n",
              "    </tr>\n",
              "    <tr>\n",
              "      <th>4</th>\n",
              "      <td>C(region2)[T.2]</td>\n",
              "      <td>1.206611</td>\n",
              "    </tr>\n",
              "    <tr>\n",
              "      <th>5</th>\n",
              "      <td>C(region2)[T.3]</td>\n",
              "      <td>1.301353</td>\n",
              "    </tr>\n",
              "    <tr>\n",
              "      <th>6</th>\n",
              "      <td>C(region2)[T.4]</td>\n",
              "      <td>1.271064</td>\n",
              "    </tr>\n",
              "    <tr>\n",
              "      <th>7</th>\n",
              "      <td>C(region2)[T.5]</td>\n",
              "      <td>1.097858</td>\n",
              "    </tr>\n",
              "    <tr>\n",
              "      <th>8</th>\n",
              "      <td>perc_smp</td>\n",
              "      <td>20.850568</td>\n",
              "    </tr>\n",
              "    <tr>\n",
              "      <th>9</th>\n",
              "      <td>perc_sma</td>\n",
              "      <td>22.331008</td>\n",
              "    </tr>\n",
              "  </tbody>\n",
              "</table>\n",
              "</div>\n",
              "      <button class=\"colab-df-convert\" onclick=\"convertToInteractive('df-32c7f79a-57d4-4cbb-88df-9872bb2fef66')\"\n",
              "              title=\"Convert this dataframe to an interactive table.\"\n",
              "              style=\"display:none;\">\n",
              "        \n",
              "  <svg xmlns=\"http://www.w3.org/2000/svg\" height=\"24px\"viewBox=\"0 0 24 24\"\n",
              "       width=\"24px\">\n",
              "    <path d=\"M0 0h24v24H0V0z\" fill=\"none\"/>\n",
              "    <path d=\"M18.56 5.44l.94 2.06.94-2.06 2.06-.94-2.06-.94-.94-2.06-.94 2.06-2.06.94zm-11 1L8.5 8.5l.94-2.06 2.06-.94-2.06-.94L8.5 2.5l-.94 2.06-2.06.94zm10 10l.94 2.06.94-2.06 2.06-.94-2.06-.94-.94-2.06-.94 2.06-2.06.94z\"/><path d=\"M17.41 7.96l-1.37-1.37c-.4-.4-.92-.59-1.43-.59-.52 0-1.04.2-1.43.59L10.3 9.45l-7.72 7.72c-.78.78-.78 2.05 0 2.83L4 21.41c.39.39.9.59 1.41.59.51 0 1.02-.2 1.41-.59l7.78-7.78 2.81-2.81c.8-.78.8-2.07 0-2.86zM5.41 20L4 18.59l7.72-7.72 1.47 1.35L5.41 20z\"/>\n",
              "  </svg>\n",
              "      </button>\n",
              "      \n",
              "  <style>\n",
              "    .colab-df-container {\n",
              "      display:flex;\n",
              "      flex-wrap:wrap;\n",
              "      gap: 12px;\n",
              "    }\n",
              "\n",
              "    .colab-df-convert {\n",
              "      background-color: #E8F0FE;\n",
              "      border: none;\n",
              "      border-radius: 50%;\n",
              "      cursor: pointer;\n",
              "      display: none;\n",
              "      fill: #1967D2;\n",
              "      height: 32px;\n",
              "      padding: 0 0 0 0;\n",
              "      width: 32px;\n",
              "    }\n",
              "\n",
              "    .colab-df-convert:hover {\n",
              "      background-color: #E2EBFA;\n",
              "      box-shadow: 0px 1px 2px rgba(60, 64, 67, 0.3), 0px 1px 3px 1px rgba(60, 64, 67, 0.15);\n",
              "      fill: #174EA6;\n",
              "    }\n",
              "\n",
              "    [theme=dark] .colab-df-convert {\n",
              "      background-color: #3B4455;\n",
              "      fill: #D2E3FC;\n",
              "    }\n",
              "\n",
              "    [theme=dark] .colab-df-convert:hover {\n",
              "      background-color: #434B5C;\n",
              "      box-shadow: 0px 1px 3px 1px rgba(0, 0, 0, 0.15);\n",
              "      filter: drop-shadow(0px 1px 2px rgba(0, 0, 0, 0.3));\n",
              "      fill: #FFFFFF;\n",
              "    }\n",
              "  </style>\n",
              "\n",
              "      <script>\n",
              "        const buttonEl =\n",
              "          document.querySelector('#df-32c7f79a-57d4-4cbb-88df-9872bb2fef66 button.colab-df-convert');\n",
              "        buttonEl.style.display =\n",
              "          google.colab.kernel.accessAllowed ? 'block' : 'none';\n",
              "\n",
              "        async function convertToInteractive(key) {\n",
              "          const element = document.querySelector('#df-32c7f79a-57d4-4cbb-88df-9872bb2fef66');\n",
              "          const dataTable =\n",
              "            await google.colab.kernel.invokeFunction('convertToInteractive',\n",
              "                                                     [key], {});\n",
              "          if (!dataTable) return;\n",
              "\n",
              "          const docLinkHtml = 'Like what you see? Visit the ' +\n",
              "            '<a target=\"_blank\" href=https://colab.research.google.com/notebooks/data_table.ipynb>data table notebook</a>'\n",
              "            + ' to learn more about interactive tables.';\n",
              "          element.innerHTML = '';\n",
              "          dataTable['output_type'] = 'display_data';\n",
              "          await google.colab.output.renderOutput(dataTable, element);\n",
              "          const docLink = document.createElement('div');\n",
              "          docLink.innerHTML = docLinkHtml;\n",
              "          element.appendChild(docLink);\n",
              "        }\n",
              "      </script>\n",
              "    </div>\n",
              "  </div>\n",
              "  "
            ]
          },
          "metadata": {},
          "execution_count": 13
        }
      ],
      "source": [
        "vif=pd.DataFrame()\n",
        "vif[\"Variables\"]=res_1.model.exog_names\n",
        "\n",
        "variables = res_1.model.exog\n",
        "vif[\"VIF\"] = [variance_inflation_factor(variables, i) for i in range(variables.shape[1])]\n",
        "\n",
        "vif"
      ]
    },
    {
      "cell_type": "markdown",
      "metadata": {
        "id": "HvvOvoE1u46n"
      },
      "source": [
        "**6. Kita ingin melihat apakah transformasi variabel menjadi `log_exp_cap` menurunkan heteroskedastisitas dan membuat error terdistribusi normal. Lakukan regresi `log_exp_cap` terhadap variabel `perc_smp`,`perc_sma`, `urban`, dan `region2` sesuai *functional form* ($\\delta$ adalah parameter untuk *dummy*)** $\\log(\\text{Income}_i)=\\beta_0 + \\beta_1\\text{SMP}_i + \\beta_2\\text{SMA}_i + \\sum_{n=0}^2\\delta_n\\text{Urban}_{n,i} + \\sum_{r=0}^6\\delta_r\\text{Region2}_{r,i} + u_i$. **Lakukan pula tes heteroskedastisitas dan tes multikolinearitas.**\n",
        "\n",
        "**6a. *Ubah dari Lin ke Log***"
      ]
    },
    {
      "cell_type": "code",
      "execution_count": null,
      "metadata": {
        "colab": {
          "base_uri": "https://localhost:8080/"
        },
        "id": "geqvSwIeu46o",
        "outputId": "2cb4d12a-d185-46ea-bb06-35033862cebc"
      },
      "outputs": [
        {
          "output_type": "stream",
          "name": "stdout",
          "text": [
            "                            OLS Regression Results                            \n",
            "==============================================================================\n",
            "Dep. Variable:            log_exp_cap   R-squared:                       0.668\n",
            "Model:                            OLS   Adj. R-squared:                  0.662\n",
            "Method:                 Least Squares   F-statistic:                     109.2\n",
            "Date:                Sun, 27 Mar 2022   Prob (F-statistic):          6.03e-111\n",
            "Time:                        16:15:24   Log-Likelihood:                 202.35\n",
            "No. Observations:                 498   AIC:                            -384.7\n",
            "Df Residuals:                     488   BIC:                            -342.6\n",
            "Df Model:                           9                                         \n",
            "Covariance Type:            nonrobust                                         \n",
            "===================================================================================\n",
            "                      coef    std err          t      P>|t|      [0.025      0.975]\n",
            "-----------------------------------------------------------------------------------\n",
            "Intercept          13.2924      0.066    202.038      0.000      13.163      13.422\n",
            "C(urban)[T.1]       0.0513      0.019      2.681      0.008       0.014       0.089\n",
            "C(urban)[T.2]       0.1453      0.033      4.446      0.000       0.081       0.209\n",
            "C(region2)[T.1]     0.0050      0.022      0.229      0.819      -0.038       0.048\n",
            "C(region2)[T.2]     0.2032      0.025      8.009      0.000       0.153       0.253\n",
            "C(region2)[T.3]    -0.1100      0.031     -3.549      0.000      -0.171      -0.049\n",
            "C(region2)[T.4]    -0.0908      0.022     -4.072      0.000      -0.135      -0.047\n",
            "C(region2)[T.5]    -0.1248      0.038     -3.281      0.001      -0.200      -0.050\n",
            "perc_smp            0.0997      0.362      0.276      0.783      -0.611       0.810\n",
            "perc_sma            1.7891      0.382      4.685      0.000       1.039       2.539\n",
            "==============================================================================\n",
            "Omnibus:                        5.003   Durbin-Watson:                   1.234\n",
            "Prob(Omnibus):                  0.082   Jarque-Bera (JB):                4.874\n",
            "Skew:                           0.199   Prob(JB):                       0.0874\n",
            "Kurtosis:                       3.276   Cond. No.                         93.1\n",
            "==============================================================================\n",
            "\n",
            "Warnings:\n",
            "[1] Standard Errors assume that the covariance matrix of the errors is correctly specified.\n"
          ]
        }
      ],
      "source": [
        "mod_2 = ols(\"log_exp_cap ~ perc_smp + perc_sma + C(urban) + C(region2)\", data = df)\n",
        "res_2 = mod_2.fit()\n",
        "print(res_2.summary())"
      ]
    },
    {
      "cell_type": "markdown",
      "metadata": {
        "id": "soVuK9uMu46o"
      },
      "source": [
        "**6b. *Heteroskedasticity Test (Breusch-Pagan Test)***"
      ]
    },
    {
      "cell_type": "code",
      "source": [
        "import statsmodels.stats.api as sms\n",
        "hettest = pd.DataFrame()\n",
        "\n",
        "hettest[\"Tests\"] = ['Lagrange multiplier statistic', 'p-value',\n",
        "        'f-value', 'f p-value']\n",
        "hettest[\"Values\"] = sms.het_breuschpagan(res_2.resid, res_2.model.exog)\n",
        "hettest"
      ],
      "metadata": {
        "colab": {
          "base_uri": "https://localhost:8080/",
          "height": 175
        },
        "id": "0Dh8qmSnKXfz",
        "outputId": "42fc1745-a744-482d-9d27-0895316d924b"
      },
      "execution_count": null,
      "outputs": [
        {
          "output_type": "execute_result",
          "data": {
            "text/plain": [
              "                           Tests     Values\n",
              "0  Lagrange multiplier statistic  35.547601\n",
              "1                        p-value   0.000048\n",
              "2                        f-value   4.167932\n",
              "3                      f p-value   0.000034"
            ],
            "text/html": [
              "\n",
              "  <div id=\"df-cb24e880-a0ec-45d2-bd7a-d4ba25f45cff\">\n",
              "    <div class=\"colab-df-container\">\n",
              "      <div>\n",
              "<style scoped>\n",
              "    .dataframe tbody tr th:only-of-type {\n",
              "        vertical-align: middle;\n",
              "    }\n",
              "\n",
              "    .dataframe tbody tr th {\n",
              "        vertical-align: top;\n",
              "    }\n",
              "\n",
              "    .dataframe thead th {\n",
              "        text-align: right;\n",
              "    }\n",
              "</style>\n",
              "<table border=\"1\" class=\"dataframe\">\n",
              "  <thead>\n",
              "    <tr style=\"text-align: right;\">\n",
              "      <th></th>\n",
              "      <th>Tests</th>\n",
              "      <th>Values</th>\n",
              "    </tr>\n",
              "  </thead>\n",
              "  <tbody>\n",
              "    <tr>\n",
              "      <th>0</th>\n",
              "      <td>Lagrange multiplier statistic</td>\n",
              "      <td>35.547601</td>\n",
              "    </tr>\n",
              "    <tr>\n",
              "      <th>1</th>\n",
              "      <td>p-value</td>\n",
              "      <td>0.000048</td>\n",
              "    </tr>\n",
              "    <tr>\n",
              "      <th>2</th>\n",
              "      <td>f-value</td>\n",
              "      <td>4.167932</td>\n",
              "    </tr>\n",
              "    <tr>\n",
              "      <th>3</th>\n",
              "      <td>f p-value</td>\n",
              "      <td>0.000034</td>\n",
              "    </tr>\n",
              "  </tbody>\n",
              "</table>\n",
              "</div>\n",
              "      <button class=\"colab-df-convert\" onclick=\"convertToInteractive('df-cb24e880-a0ec-45d2-bd7a-d4ba25f45cff')\"\n",
              "              title=\"Convert this dataframe to an interactive table.\"\n",
              "              style=\"display:none;\">\n",
              "        \n",
              "  <svg xmlns=\"http://www.w3.org/2000/svg\" height=\"24px\"viewBox=\"0 0 24 24\"\n",
              "       width=\"24px\">\n",
              "    <path d=\"M0 0h24v24H0V0z\" fill=\"none\"/>\n",
              "    <path d=\"M18.56 5.44l.94 2.06.94-2.06 2.06-.94-2.06-.94-.94-2.06-.94 2.06-2.06.94zm-11 1L8.5 8.5l.94-2.06 2.06-.94-2.06-.94L8.5 2.5l-.94 2.06-2.06.94zm10 10l.94 2.06.94-2.06 2.06-.94-2.06-.94-.94-2.06-.94 2.06-2.06.94z\"/><path d=\"M17.41 7.96l-1.37-1.37c-.4-.4-.92-.59-1.43-.59-.52 0-1.04.2-1.43.59L10.3 9.45l-7.72 7.72c-.78.78-.78 2.05 0 2.83L4 21.41c.39.39.9.59 1.41.59.51 0 1.02-.2 1.41-.59l7.78-7.78 2.81-2.81c.8-.78.8-2.07 0-2.86zM5.41 20L4 18.59l7.72-7.72 1.47 1.35L5.41 20z\"/>\n",
              "  </svg>\n",
              "      </button>\n",
              "      \n",
              "  <style>\n",
              "    .colab-df-container {\n",
              "      display:flex;\n",
              "      flex-wrap:wrap;\n",
              "      gap: 12px;\n",
              "    }\n",
              "\n",
              "    .colab-df-convert {\n",
              "      background-color: #E8F0FE;\n",
              "      border: none;\n",
              "      border-radius: 50%;\n",
              "      cursor: pointer;\n",
              "      display: none;\n",
              "      fill: #1967D2;\n",
              "      height: 32px;\n",
              "      padding: 0 0 0 0;\n",
              "      width: 32px;\n",
              "    }\n",
              "\n",
              "    .colab-df-convert:hover {\n",
              "      background-color: #E2EBFA;\n",
              "      box-shadow: 0px 1px 2px rgba(60, 64, 67, 0.3), 0px 1px 3px 1px rgba(60, 64, 67, 0.15);\n",
              "      fill: #174EA6;\n",
              "    }\n",
              "\n",
              "    [theme=dark] .colab-df-convert {\n",
              "      background-color: #3B4455;\n",
              "      fill: #D2E3FC;\n",
              "    }\n",
              "\n",
              "    [theme=dark] .colab-df-convert:hover {\n",
              "      background-color: #434B5C;\n",
              "      box-shadow: 0px 1px 3px 1px rgba(0, 0, 0, 0.15);\n",
              "      filter: drop-shadow(0px 1px 2px rgba(0, 0, 0, 0.3));\n",
              "      fill: #FFFFFF;\n",
              "    }\n",
              "  </style>\n",
              "\n",
              "      <script>\n",
              "        const buttonEl =\n",
              "          document.querySelector('#df-cb24e880-a0ec-45d2-bd7a-d4ba25f45cff button.colab-df-convert');\n",
              "        buttonEl.style.display =\n",
              "          google.colab.kernel.accessAllowed ? 'block' : 'none';\n",
              "\n",
              "        async function convertToInteractive(key) {\n",
              "          const element = document.querySelector('#df-cb24e880-a0ec-45d2-bd7a-d4ba25f45cff');\n",
              "          const dataTable =\n",
              "            await google.colab.kernel.invokeFunction('convertToInteractive',\n",
              "                                                     [key], {});\n",
              "          if (!dataTable) return;\n",
              "\n",
              "          const docLinkHtml = 'Like what you see? Visit the ' +\n",
              "            '<a target=\"_blank\" href=https://colab.research.google.com/notebooks/data_table.ipynb>data table notebook</a>'\n",
              "            + ' to learn more about interactive tables.';\n",
              "          element.innerHTML = '';\n",
              "          dataTable['output_type'] = 'display_data';\n",
              "          await google.colab.output.renderOutput(dataTable, element);\n",
              "          const docLink = document.createElement('div');\n",
              "          docLink.innerHTML = docLinkHtml;\n",
              "          element.appendChild(docLink);\n",
              "        }\n",
              "      </script>\n",
              "    </div>\n",
              "  </div>\n",
              "  "
            ]
          },
          "metadata": {},
          "execution_count": 15
        }
      ]
    },
    {
      "cell_type": "markdown",
      "metadata": {
        "id": "bRiHlqUZu46o"
      },
      "source": [
        "**6c. *Multicollinearity Test (Variance Inflation Factor)***"
      ]
    },
    {
      "cell_type": "code",
      "execution_count": null,
      "metadata": {
        "colab": {
          "base_uri": "https://localhost:8080/",
          "height": 363
        },
        "id": "Yv41VV39u46o",
        "outputId": "dd2f3f06-1a72-4f08-b268-f88d9b76ac94"
      },
      "outputs": [
        {
          "output_type": "execute_result",
          "data": {
            "text/plain": [
              "         Variables        VIF\n",
              "0        Intercept  81.313391\n",
              "1    C(urban)[T.1]   1.719214\n",
              "2    C(urban)[T.2]   3.730082\n",
              "3  C(region2)[T.1]   1.624932\n",
              "4  C(region2)[T.2]   1.206611\n",
              "5  C(region2)[T.3]   1.301353\n",
              "6  C(region2)[T.4]   1.271064\n",
              "7  C(region2)[T.5]   1.097858\n",
              "8         perc_smp  20.850568\n",
              "9         perc_sma  22.331008"
            ],
            "text/html": [
              "\n",
              "  <div id=\"df-f85ede6f-8540-431f-ac01-7e74c64887ad\">\n",
              "    <div class=\"colab-df-container\">\n",
              "      <div>\n",
              "<style scoped>\n",
              "    .dataframe tbody tr th:only-of-type {\n",
              "        vertical-align: middle;\n",
              "    }\n",
              "\n",
              "    .dataframe tbody tr th {\n",
              "        vertical-align: top;\n",
              "    }\n",
              "\n",
              "    .dataframe thead th {\n",
              "        text-align: right;\n",
              "    }\n",
              "</style>\n",
              "<table border=\"1\" class=\"dataframe\">\n",
              "  <thead>\n",
              "    <tr style=\"text-align: right;\">\n",
              "      <th></th>\n",
              "      <th>Variables</th>\n",
              "      <th>VIF</th>\n",
              "    </tr>\n",
              "  </thead>\n",
              "  <tbody>\n",
              "    <tr>\n",
              "      <th>0</th>\n",
              "      <td>Intercept</td>\n",
              "      <td>81.313391</td>\n",
              "    </tr>\n",
              "    <tr>\n",
              "      <th>1</th>\n",
              "      <td>C(urban)[T.1]</td>\n",
              "      <td>1.719214</td>\n",
              "    </tr>\n",
              "    <tr>\n",
              "      <th>2</th>\n",
              "      <td>C(urban)[T.2]</td>\n",
              "      <td>3.730082</td>\n",
              "    </tr>\n",
              "    <tr>\n",
              "      <th>3</th>\n",
              "      <td>C(region2)[T.1]</td>\n",
              "      <td>1.624932</td>\n",
              "    </tr>\n",
              "    <tr>\n",
              "      <th>4</th>\n",
              "      <td>C(region2)[T.2]</td>\n",
              "      <td>1.206611</td>\n",
              "    </tr>\n",
              "    <tr>\n",
              "      <th>5</th>\n",
              "      <td>C(region2)[T.3]</td>\n",
              "      <td>1.301353</td>\n",
              "    </tr>\n",
              "    <tr>\n",
              "      <th>6</th>\n",
              "      <td>C(region2)[T.4]</td>\n",
              "      <td>1.271064</td>\n",
              "    </tr>\n",
              "    <tr>\n",
              "      <th>7</th>\n",
              "      <td>C(region2)[T.5]</td>\n",
              "      <td>1.097858</td>\n",
              "    </tr>\n",
              "    <tr>\n",
              "      <th>8</th>\n",
              "      <td>perc_smp</td>\n",
              "      <td>20.850568</td>\n",
              "    </tr>\n",
              "    <tr>\n",
              "      <th>9</th>\n",
              "      <td>perc_sma</td>\n",
              "      <td>22.331008</td>\n",
              "    </tr>\n",
              "  </tbody>\n",
              "</table>\n",
              "</div>\n",
              "      <button class=\"colab-df-convert\" onclick=\"convertToInteractive('df-f85ede6f-8540-431f-ac01-7e74c64887ad')\"\n",
              "              title=\"Convert this dataframe to an interactive table.\"\n",
              "              style=\"display:none;\">\n",
              "        \n",
              "  <svg xmlns=\"http://www.w3.org/2000/svg\" height=\"24px\"viewBox=\"0 0 24 24\"\n",
              "       width=\"24px\">\n",
              "    <path d=\"M0 0h24v24H0V0z\" fill=\"none\"/>\n",
              "    <path d=\"M18.56 5.44l.94 2.06.94-2.06 2.06-.94-2.06-.94-.94-2.06-.94 2.06-2.06.94zm-11 1L8.5 8.5l.94-2.06 2.06-.94-2.06-.94L8.5 2.5l-.94 2.06-2.06.94zm10 10l.94 2.06.94-2.06 2.06-.94-2.06-.94-.94-2.06-.94 2.06-2.06.94z\"/><path d=\"M17.41 7.96l-1.37-1.37c-.4-.4-.92-.59-1.43-.59-.52 0-1.04.2-1.43.59L10.3 9.45l-7.72 7.72c-.78.78-.78 2.05 0 2.83L4 21.41c.39.39.9.59 1.41.59.51 0 1.02-.2 1.41-.59l7.78-7.78 2.81-2.81c.8-.78.8-2.07 0-2.86zM5.41 20L4 18.59l7.72-7.72 1.47 1.35L5.41 20z\"/>\n",
              "  </svg>\n",
              "      </button>\n",
              "      \n",
              "  <style>\n",
              "    .colab-df-container {\n",
              "      display:flex;\n",
              "      flex-wrap:wrap;\n",
              "      gap: 12px;\n",
              "    }\n",
              "\n",
              "    .colab-df-convert {\n",
              "      background-color: #E8F0FE;\n",
              "      border: none;\n",
              "      border-radius: 50%;\n",
              "      cursor: pointer;\n",
              "      display: none;\n",
              "      fill: #1967D2;\n",
              "      height: 32px;\n",
              "      padding: 0 0 0 0;\n",
              "      width: 32px;\n",
              "    }\n",
              "\n",
              "    .colab-df-convert:hover {\n",
              "      background-color: #E2EBFA;\n",
              "      box-shadow: 0px 1px 2px rgba(60, 64, 67, 0.3), 0px 1px 3px 1px rgba(60, 64, 67, 0.15);\n",
              "      fill: #174EA6;\n",
              "    }\n",
              "\n",
              "    [theme=dark] .colab-df-convert {\n",
              "      background-color: #3B4455;\n",
              "      fill: #D2E3FC;\n",
              "    }\n",
              "\n",
              "    [theme=dark] .colab-df-convert:hover {\n",
              "      background-color: #434B5C;\n",
              "      box-shadow: 0px 1px 3px 1px rgba(0, 0, 0, 0.15);\n",
              "      filter: drop-shadow(0px 1px 2px rgba(0, 0, 0, 0.3));\n",
              "      fill: #FFFFFF;\n",
              "    }\n",
              "  </style>\n",
              "\n",
              "      <script>\n",
              "        const buttonEl =\n",
              "          document.querySelector('#df-f85ede6f-8540-431f-ac01-7e74c64887ad button.colab-df-convert');\n",
              "        buttonEl.style.display =\n",
              "          google.colab.kernel.accessAllowed ? 'block' : 'none';\n",
              "\n",
              "        async function convertToInteractive(key) {\n",
              "          const element = document.querySelector('#df-f85ede6f-8540-431f-ac01-7e74c64887ad');\n",
              "          const dataTable =\n",
              "            await google.colab.kernel.invokeFunction('convertToInteractive',\n",
              "                                                     [key], {});\n",
              "          if (!dataTable) return;\n",
              "\n",
              "          const docLinkHtml = 'Like what you see? Visit the ' +\n",
              "            '<a target=\"_blank\" href=https://colab.research.google.com/notebooks/data_table.ipynb>data table notebook</a>'\n",
              "            + ' to learn more about interactive tables.';\n",
              "          element.innerHTML = '';\n",
              "          dataTable['output_type'] = 'display_data';\n",
              "          await google.colab.output.renderOutput(dataTable, element);\n",
              "          const docLink = document.createElement('div');\n",
              "          docLink.innerHTML = docLinkHtml;\n",
              "          element.appendChild(docLink);\n",
              "        }\n",
              "      </script>\n",
              "    </div>\n",
              "  </div>\n",
              "  "
            ]
          },
          "metadata": {},
          "execution_count": 16
        }
      ],
      "source": [
        "vif=pd.DataFrame()\n",
        "vif[\"Variables\"]=res_2.model.exog_names\n",
        "\n",
        "variables = res_2.model.exog\n",
        "vif[\"VIF\"] = [variance_inflation_factor(variables, i) for i in range(variables.shape[1])]\n",
        "\n",
        "vif"
      ]
    },
    {
      "cell_type": "markdown",
      "metadata": {
        "id": "bXaGXe3tu46o"
      },
      "source": [
        "**7. Sekarang, kita akan melakukan regresi dengan menggunakan interaction terms. Lakukan interaksi antara `region2` dan `perc_sma`. Kalian bisa hilangkan variabel `perc_smp` karena kalian bisa melihat bahwa keduanya memiliki multikolinearitas tinggi dan memberikan informasi yang mirip. Lakukan regresi sesuai dengan di nomor (6), namun dengan menggunakan *functional form* berikut: ($\\delta$ adalah parameter untuk *dummy*) **$\\log(\\text{Income}_i)=\\beta_0 + \\beta_1\\text{SMA}_i + \\sum_{n=0}^2\\delta_n\\text{Urban}_{n,i} + \\sum_{r=0}^6\\delta_r\\text{Region2}_{r,i} + u_i + \\sum_{x=0}^6\\delta_r\\text{Region2}_{x,i}\\times \\text{SMA}_i$  . **Lakukan pula tes heteroskedastisitas dan tes multikolinearitas.**\n",
        "\n",
        "**7a. *Interaction + Drop perc_smp***"
      ]
    },
    {
      "cell_type": "code",
      "execution_count": null,
      "metadata": {
        "colab": {
          "base_uri": "https://localhost:8080/"
        },
        "id": "3v3DK2_zu46p",
        "outputId": "754bf433-56c8-4869-bc29-b85f0298f94f"
      },
      "outputs": [
        {
          "output_type": "stream",
          "name": "stdout",
          "text": [
            "                            OLS Regression Results                            \n",
            "==============================================================================\n",
            "Dep. Variable:            log_exp_cap   R-squared:                       0.680\n",
            "Model:                            OLS   Adj. R-squared:                  0.672\n",
            "Method:                 Least Squares   F-statistic:                     79.21\n",
            "Date:                Sun, 27 Mar 2022   Prob (F-statistic):          8.48e-111\n",
            "Time:                        16:26:45   Log-Likelihood:                 211.55\n",
            "No. Observations:                 498   AIC:                            -395.1\n",
            "Df Residuals:                     484   BIC:                            -336.1\n",
            "Df Model:                          13                                         \n",
            "Covariance Type:            nonrobust                                         \n",
            "============================================================================================\n",
            "                               coef    std err          t      P>|t|      [0.025      0.975]\n",
            "--------------------------------------------------------------------------------------------\n",
            "Intercept                   13.4123      0.044    308.259      0.000      13.327      13.498\n",
            "C(urban)[T.1]                0.0681      0.020      3.483      0.001       0.030       0.107\n",
            "C(urban)[T.2]                0.1606      0.033      4.921      0.000       0.096       0.225\n",
            "C(region2)[T.1]             -0.1721      0.058     -2.964      0.003      -0.286      -0.058\n",
            "C(region2)[T.2]              0.0652      0.082      0.795      0.427      -0.096       0.226\n",
            "C(region2)[T.3]             -0.3973      0.084     -4.744      0.000      -0.562      -0.233\n",
            "C(region2)[T.4]             -0.1754      0.075     -2.354      0.019      -0.322      -0.029\n",
            "C(region2)[T.5]             -0.1528      0.125     -1.218      0.224      -0.399       0.094\n",
            "perc_sma                     1.4590      0.176      8.311      0.000       1.114       1.804\n",
            "C(region2)[T.1]:perc_sma     0.6549      0.199      3.289      0.001       0.264       1.046\n",
            "C(region2)[T.2]:perc_sma     0.5088      0.308      1.651      0.099      -0.097       1.114\n",
            "C(region2)[T.3]:perc_sma     1.1309      0.321      3.528      0.000       0.501       1.761\n",
            "C(region2)[T.4]:perc_sma     0.3075      0.273      1.125      0.261      -0.230       0.845\n",
            "C(region2)[T.5]:perc_sma     0.1092      0.451      0.242      0.809      -0.776       0.995\n",
            "==============================================================================\n",
            "Omnibus:                        2.595   Durbin-Watson:                   1.177\n",
            "Prob(Omnibus):                  0.273   Jarque-Bera (JB):                2.386\n",
            "Skew:                           0.132   Prob(JB):                        0.303\n",
            "Kurtosis:                       3.214   Cond. No.                         85.1\n",
            "==============================================================================\n",
            "\n",
            "Warnings:\n",
            "[1] Standard Errors assume that the covariance matrix of the errors is correctly specified.\n"
          ]
        }
      ],
      "source": [
        "mod_3 = ols(\"log_exp_cap ~ perc_sma + C(urban) + C(region2) + C(region2) : perc_sma\", data = df)\n",
        "res_3 = mod_3.fit()\n",
        "print(res_3.summary())"
      ]
    },
    {
      "cell_type": "markdown",
      "metadata": {
        "id": "EcSk4k5cu46p"
      },
      "source": [
        "**7b. *Heteroskedasticity Test (Breusch-Pagan Test)***"
      ]
    },
    {
      "cell_type": "code",
      "execution_count": null,
      "metadata": {
        "colab": {
          "base_uri": "https://localhost:8080/",
          "height": 175
        },
        "id": "BsbZUIF3u46p",
        "outputId": "71512f82-ce15-4c22-afb3-69271909058d"
      },
      "outputs": [
        {
          "output_type": "execute_result",
          "data": {
            "text/plain": [
              "                           Tests     Values\n",
              "0  Lagrange multiplier statistic  21.197899\n",
              "1                        p-value   0.069106\n",
              "2                        f-value   1.655224\n",
              "3                      f p-value   0.067368"
            ],
            "text/html": [
              "\n",
              "  <div id=\"df-fdff5768-40ef-453f-983b-9b405e12e593\">\n",
              "    <div class=\"colab-df-container\">\n",
              "      <div>\n",
              "<style scoped>\n",
              "    .dataframe tbody tr th:only-of-type {\n",
              "        vertical-align: middle;\n",
              "    }\n",
              "\n",
              "    .dataframe tbody tr th {\n",
              "        vertical-align: top;\n",
              "    }\n",
              "\n",
              "    .dataframe thead th {\n",
              "        text-align: right;\n",
              "    }\n",
              "</style>\n",
              "<table border=\"1\" class=\"dataframe\">\n",
              "  <thead>\n",
              "    <tr style=\"text-align: right;\">\n",
              "      <th></th>\n",
              "      <th>Tests</th>\n",
              "      <th>Values</th>\n",
              "    </tr>\n",
              "  </thead>\n",
              "  <tbody>\n",
              "    <tr>\n",
              "      <th>0</th>\n",
              "      <td>Lagrange multiplier statistic</td>\n",
              "      <td>21.197899</td>\n",
              "    </tr>\n",
              "    <tr>\n",
              "      <th>1</th>\n",
              "      <td>p-value</td>\n",
              "      <td>0.069106</td>\n",
              "    </tr>\n",
              "    <tr>\n",
              "      <th>2</th>\n",
              "      <td>f-value</td>\n",
              "      <td>1.655224</td>\n",
              "    </tr>\n",
              "    <tr>\n",
              "      <th>3</th>\n",
              "      <td>f p-value</td>\n",
              "      <td>0.067368</td>\n",
              "    </tr>\n",
              "  </tbody>\n",
              "</table>\n",
              "</div>\n",
              "      <button class=\"colab-df-convert\" onclick=\"convertToInteractive('df-fdff5768-40ef-453f-983b-9b405e12e593')\"\n",
              "              title=\"Convert this dataframe to an interactive table.\"\n",
              "              style=\"display:none;\">\n",
              "        \n",
              "  <svg xmlns=\"http://www.w3.org/2000/svg\" height=\"24px\"viewBox=\"0 0 24 24\"\n",
              "       width=\"24px\">\n",
              "    <path d=\"M0 0h24v24H0V0z\" fill=\"none\"/>\n",
              "    <path d=\"M18.56 5.44l.94 2.06.94-2.06 2.06-.94-2.06-.94-.94-2.06-.94 2.06-2.06.94zm-11 1L8.5 8.5l.94-2.06 2.06-.94-2.06-.94L8.5 2.5l-.94 2.06-2.06.94zm10 10l.94 2.06.94-2.06 2.06-.94-2.06-.94-.94-2.06-.94 2.06-2.06.94z\"/><path d=\"M17.41 7.96l-1.37-1.37c-.4-.4-.92-.59-1.43-.59-.52 0-1.04.2-1.43.59L10.3 9.45l-7.72 7.72c-.78.78-.78 2.05 0 2.83L4 21.41c.39.39.9.59 1.41.59.51 0 1.02-.2 1.41-.59l7.78-7.78 2.81-2.81c.8-.78.8-2.07 0-2.86zM5.41 20L4 18.59l7.72-7.72 1.47 1.35L5.41 20z\"/>\n",
              "  </svg>\n",
              "      </button>\n",
              "      \n",
              "  <style>\n",
              "    .colab-df-container {\n",
              "      display:flex;\n",
              "      flex-wrap:wrap;\n",
              "      gap: 12px;\n",
              "    }\n",
              "\n",
              "    .colab-df-convert {\n",
              "      background-color: #E8F0FE;\n",
              "      border: none;\n",
              "      border-radius: 50%;\n",
              "      cursor: pointer;\n",
              "      display: none;\n",
              "      fill: #1967D2;\n",
              "      height: 32px;\n",
              "      padding: 0 0 0 0;\n",
              "      width: 32px;\n",
              "    }\n",
              "\n",
              "    .colab-df-convert:hover {\n",
              "      background-color: #E2EBFA;\n",
              "      box-shadow: 0px 1px 2px rgba(60, 64, 67, 0.3), 0px 1px 3px 1px rgba(60, 64, 67, 0.15);\n",
              "      fill: #174EA6;\n",
              "    }\n",
              "\n",
              "    [theme=dark] .colab-df-convert {\n",
              "      background-color: #3B4455;\n",
              "      fill: #D2E3FC;\n",
              "    }\n",
              "\n",
              "    [theme=dark] .colab-df-convert:hover {\n",
              "      background-color: #434B5C;\n",
              "      box-shadow: 0px 1px 3px 1px rgba(0, 0, 0, 0.15);\n",
              "      filter: drop-shadow(0px 1px 2px rgba(0, 0, 0, 0.3));\n",
              "      fill: #FFFFFF;\n",
              "    }\n",
              "  </style>\n",
              "\n",
              "      <script>\n",
              "        const buttonEl =\n",
              "          document.querySelector('#df-fdff5768-40ef-453f-983b-9b405e12e593 button.colab-df-convert');\n",
              "        buttonEl.style.display =\n",
              "          google.colab.kernel.accessAllowed ? 'block' : 'none';\n",
              "\n",
              "        async function convertToInteractive(key) {\n",
              "          const element = document.querySelector('#df-fdff5768-40ef-453f-983b-9b405e12e593');\n",
              "          const dataTable =\n",
              "            await google.colab.kernel.invokeFunction('convertToInteractive',\n",
              "                                                     [key], {});\n",
              "          if (!dataTable) return;\n",
              "\n",
              "          const docLinkHtml = 'Like what you see? Visit the ' +\n",
              "            '<a target=\"_blank\" href=https://colab.research.google.com/notebooks/data_table.ipynb>data table notebook</a>'\n",
              "            + ' to learn more about interactive tables.';\n",
              "          element.innerHTML = '';\n",
              "          dataTable['output_type'] = 'display_data';\n",
              "          await google.colab.output.renderOutput(dataTable, element);\n",
              "          const docLink = document.createElement('div');\n",
              "          docLink.innerHTML = docLinkHtml;\n",
              "          element.appendChild(docLink);\n",
              "        }\n",
              "      </script>\n",
              "    </div>\n",
              "  </div>\n",
              "  "
            ]
          },
          "metadata": {},
          "execution_count": 18
        }
      ],
      "source": [
        "import statsmodels.stats.api as sms\n",
        "hettest = pd.DataFrame()\n",
        "\n",
        "hettest[\"Tests\"] = ['Lagrange multiplier statistic', 'p-value',\n",
        "        'f-value', 'f p-value']\n",
        "hettest[\"Values\"] = sms.het_breuschpagan(res_3.resid, res_3.model.exog)\n",
        "hettest"
      ]
    },
    {
      "cell_type": "markdown",
      "metadata": {
        "id": "tydRPoq7u46p"
      },
      "source": [
        "**7c. *Multicollinearity Test (Variance Inflation Factor)***"
      ]
    },
    {
      "cell_type": "code",
      "execution_count": null,
      "metadata": {
        "colab": {
          "base_uri": "https://localhost:8080/",
          "height": 488
        },
        "id": "JofZDI2pu46p",
        "outputId": "35802eb7-a1a3-4247-9f72-40bfaa2194c9"
      },
      "outputs": [
        {
          "output_type": "execute_result",
          "data": {
            "text/plain": [
              "                   Variables        VIF\n",
              "0                  Intercept  36.599087\n",
              "1              C(urban)[T.1]   1.848016\n",
              "2              C(urban)[T.2]   3.830374\n",
              "3            C(region2)[T.1]  11.855647\n",
              "4            C(region2)[T.2]  12.980355\n",
              "5            C(region2)[T.3]   9.790759\n",
              "6            C(region2)[T.4]  14.625388\n",
              "7            C(region2)[T.5]  12.283092\n",
              "8                   perc_sma   4.856028\n",
              "9   C(region2)[T.1]:perc_sma  11.643599\n",
              "10  C(region2)[T.2]:perc_sma  12.600835\n",
              "11  C(region2)[T.3]:perc_sma   9.480144\n",
              "12  C(region2)[T.4]:perc_sma  14.549789\n",
              "13  C(region2)[T.5]:perc_sma  12.289605"
            ],
            "text/html": [
              "\n",
              "  <div id=\"df-911e37d0-e179-4f84-a7ad-9cfc6b280b29\">\n",
              "    <div class=\"colab-df-container\">\n",
              "      <div>\n",
              "<style scoped>\n",
              "    .dataframe tbody tr th:only-of-type {\n",
              "        vertical-align: middle;\n",
              "    }\n",
              "\n",
              "    .dataframe tbody tr th {\n",
              "        vertical-align: top;\n",
              "    }\n",
              "\n",
              "    .dataframe thead th {\n",
              "        text-align: right;\n",
              "    }\n",
              "</style>\n",
              "<table border=\"1\" class=\"dataframe\">\n",
              "  <thead>\n",
              "    <tr style=\"text-align: right;\">\n",
              "      <th></th>\n",
              "      <th>Variables</th>\n",
              "      <th>VIF</th>\n",
              "    </tr>\n",
              "  </thead>\n",
              "  <tbody>\n",
              "    <tr>\n",
              "      <th>0</th>\n",
              "      <td>Intercept</td>\n",
              "      <td>36.599087</td>\n",
              "    </tr>\n",
              "    <tr>\n",
              "      <th>1</th>\n",
              "      <td>C(urban)[T.1]</td>\n",
              "      <td>1.848016</td>\n",
              "    </tr>\n",
              "    <tr>\n",
              "      <th>2</th>\n",
              "      <td>C(urban)[T.2]</td>\n",
              "      <td>3.830374</td>\n",
              "    </tr>\n",
              "    <tr>\n",
              "      <th>3</th>\n",
              "      <td>C(region2)[T.1]</td>\n",
              "      <td>11.855647</td>\n",
              "    </tr>\n",
              "    <tr>\n",
              "      <th>4</th>\n",
              "      <td>C(region2)[T.2]</td>\n",
              "      <td>12.980355</td>\n",
              "    </tr>\n",
              "    <tr>\n",
              "      <th>5</th>\n",
              "      <td>C(region2)[T.3]</td>\n",
              "      <td>9.790759</td>\n",
              "    </tr>\n",
              "    <tr>\n",
              "      <th>6</th>\n",
              "      <td>C(region2)[T.4]</td>\n",
              "      <td>14.625388</td>\n",
              "    </tr>\n",
              "    <tr>\n",
              "      <th>7</th>\n",
              "      <td>C(region2)[T.5]</td>\n",
              "      <td>12.283092</td>\n",
              "    </tr>\n",
              "    <tr>\n",
              "      <th>8</th>\n",
              "      <td>perc_sma</td>\n",
              "      <td>4.856028</td>\n",
              "    </tr>\n",
              "    <tr>\n",
              "      <th>9</th>\n",
              "      <td>C(region2)[T.1]:perc_sma</td>\n",
              "      <td>11.643599</td>\n",
              "    </tr>\n",
              "    <tr>\n",
              "      <th>10</th>\n",
              "      <td>C(region2)[T.2]:perc_sma</td>\n",
              "      <td>12.600835</td>\n",
              "    </tr>\n",
              "    <tr>\n",
              "      <th>11</th>\n",
              "      <td>C(region2)[T.3]:perc_sma</td>\n",
              "      <td>9.480144</td>\n",
              "    </tr>\n",
              "    <tr>\n",
              "      <th>12</th>\n",
              "      <td>C(region2)[T.4]:perc_sma</td>\n",
              "      <td>14.549789</td>\n",
              "    </tr>\n",
              "    <tr>\n",
              "      <th>13</th>\n",
              "      <td>C(region2)[T.5]:perc_sma</td>\n",
              "      <td>12.289605</td>\n",
              "    </tr>\n",
              "  </tbody>\n",
              "</table>\n",
              "</div>\n",
              "      <button class=\"colab-df-convert\" onclick=\"convertToInteractive('df-911e37d0-e179-4f84-a7ad-9cfc6b280b29')\"\n",
              "              title=\"Convert this dataframe to an interactive table.\"\n",
              "              style=\"display:none;\">\n",
              "        \n",
              "  <svg xmlns=\"http://www.w3.org/2000/svg\" height=\"24px\"viewBox=\"0 0 24 24\"\n",
              "       width=\"24px\">\n",
              "    <path d=\"M0 0h24v24H0V0z\" fill=\"none\"/>\n",
              "    <path d=\"M18.56 5.44l.94 2.06.94-2.06 2.06-.94-2.06-.94-.94-2.06-.94 2.06-2.06.94zm-11 1L8.5 8.5l.94-2.06 2.06-.94-2.06-.94L8.5 2.5l-.94 2.06-2.06.94zm10 10l.94 2.06.94-2.06 2.06-.94-2.06-.94-.94-2.06-.94 2.06-2.06.94z\"/><path d=\"M17.41 7.96l-1.37-1.37c-.4-.4-.92-.59-1.43-.59-.52 0-1.04.2-1.43.59L10.3 9.45l-7.72 7.72c-.78.78-.78 2.05 0 2.83L4 21.41c.39.39.9.59 1.41.59.51 0 1.02-.2 1.41-.59l7.78-7.78 2.81-2.81c.8-.78.8-2.07 0-2.86zM5.41 20L4 18.59l7.72-7.72 1.47 1.35L5.41 20z\"/>\n",
              "  </svg>\n",
              "      </button>\n",
              "      \n",
              "  <style>\n",
              "    .colab-df-container {\n",
              "      display:flex;\n",
              "      flex-wrap:wrap;\n",
              "      gap: 12px;\n",
              "    }\n",
              "\n",
              "    .colab-df-convert {\n",
              "      background-color: #E8F0FE;\n",
              "      border: none;\n",
              "      border-radius: 50%;\n",
              "      cursor: pointer;\n",
              "      display: none;\n",
              "      fill: #1967D2;\n",
              "      height: 32px;\n",
              "      padding: 0 0 0 0;\n",
              "      width: 32px;\n",
              "    }\n",
              "\n",
              "    .colab-df-convert:hover {\n",
              "      background-color: #E2EBFA;\n",
              "      box-shadow: 0px 1px 2px rgba(60, 64, 67, 0.3), 0px 1px 3px 1px rgba(60, 64, 67, 0.15);\n",
              "      fill: #174EA6;\n",
              "    }\n",
              "\n",
              "    [theme=dark] .colab-df-convert {\n",
              "      background-color: #3B4455;\n",
              "      fill: #D2E3FC;\n",
              "    }\n",
              "\n",
              "    [theme=dark] .colab-df-convert:hover {\n",
              "      background-color: #434B5C;\n",
              "      box-shadow: 0px 1px 3px 1px rgba(0, 0, 0, 0.15);\n",
              "      filter: drop-shadow(0px 1px 2px rgba(0, 0, 0, 0.3));\n",
              "      fill: #FFFFFF;\n",
              "    }\n",
              "  </style>\n",
              "\n",
              "      <script>\n",
              "        const buttonEl =\n",
              "          document.querySelector('#df-911e37d0-e179-4f84-a7ad-9cfc6b280b29 button.colab-df-convert');\n",
              "        buttonEl.style.display =\n",
              "          google.colab.kernel.accessAllowed ? 'block' : 'none';\n",
              "\n",
              "        async function convertToInteractive(key) {\n",
              "          const element = document.querySelector('#df-911e37d0-e179-4f84-a7ad-9cfc6b280b29');\n",
              "          const dataTable =\n",
              "            await google.colab.kernel.invokeFunction('convertToInteractive',\n",
              "                                                     [key], {});\n",
              "          if (!dataTable) return;\n",
              "\n",
              "          const docLinkHtml = 'Like what you see? Visit the ' +\n",
              "            '<a target=\"_blank\" href=https://colab.research.google.com/notebooks/data_table.ipynb>data table notebook</a>'\n",
              "            + ' to learn more about interactive tables.';\n",
              "          element.innerHTML = '';\n",
              "          dataTable['output_type'] = 'display_data';\n",
              "          await google.colab.output.renderOutput(dataTable, element);\n",
              "          const docLink = document.createElement('div');\n",
              "          docLink.innerHTML = docLinkHtml;\n",
              "          element.appendChild(docLink);\n",
              "        }\n",
              "      </script>\n",
              "    </div>\n",
              "  </div>\n",
              "  "
            ]
          },
          "metadata": {},
          "execution_count": 19
        }
      ],
      "source": [
        "vif=pd.DataFrame()\n",
        "vif[\"Variables\"]=res_3.model.exog_names\n",
        "\n",
        "variables = res_3.model.exog\n",
        "vif[\"VIF\"] = [variance_inflation_factor(variables, i) for i in range(variables.shape[1])]\n",
        "\n",
        "vif"
      ]
    },
    {
      "cell_type": "markdown",
      "metadata": {
        "id": "AmvjoaxXu46p"
      },
      "source": [
        "**8. *Interaction + Drop perc_smp + Robust Standard Error***\n",
        "\n",
        "Lakukan regresi di nomor (7) dengan menggunakan MacKinnon and White’s (1985) heteroskedasticity robust standard errors (gunakan `cov_type='HC3'` ketika kalian melakukan *model fitting*)."
      ]
    },
    {
      "cell_type": "code",
      "execution_count": null,
      "metadata": {
        "colab": {
          "base_uri": "https://localhost:8080/"
        },
        "id": "24ubYeSau46q",
        "outputId": "9db5bad8-d033-4f34-cbe3-878bdeadc6d0"
      },
      "outputs": [
        {
          "output_type": "stream",
          "name": "stdout",
          "text": [
            "                            OLS Regression Results                            \n",
            "==============================================================================\n",
            "Dep. Variable:            log_exp_cap   R-squared:                       0.680\n",
            "Model:                            OLS   Adj. R-squared:                  0.672\n",
            "Method:                 Least Squares   F-statistic:                     87.64\n",
            "Date:                Sun, 27 Mar 2022   Prob (F-statistic):          4.55e-118\n",
            "Time:                        16:31:08   Log-Likelihood:                 211.55\n",
            "No. Observations:                 498   AIC:                            -395.1\n",
            "Df Residuals:                     484   BIC:                            -336.1\n",
            "Df Model:                          13                                         \n",
            "Covariance Type:                  HC3                                         \n",
            "============================================================================================\n",
            "                               coef    std err          z      P>|z|      [0.025      0.975]\n",
            "--------------------------------------------------------------------------------------------\n",
            "Intercept                   13.4123      0.053    254.831      0.000      13.309      13.515\n",
            "C(urban)[T.1]                0.0681      0.021      3.284      0.001       0.027       0.109\n",
            "C(urban)[T.2]                0.1606      0.039      4.113      0.000       0.084       0.237\n",
            "C(region2)[T.1]             -0.1721      0.064     -2.700      0.007      -0.297      -0.047\n",
            "C(region2)[T.2]              0.0652      0.070      0.931      0.352      -0.072       0.203\n",
            "C(region2)[T.3]             -0.3973      0.091     -4.357      0.000      -0.576      -0.219\n",
            "C(region2)[T.4]             -0.1754      0.073     -2.412      0.016      -0.318      -0.033\n",
            "C(region2)[T.5]             -0.1528      0.124     -1.229      0.219      -0.397       0.091\n",
            "perc_sma                     1.4590      0.211      6.904      0.000       1.045       1.873\n",
            "C(region2)[T.1]:perc_sma     0.6549      0.217      3.023      0.003       0.230       1.079\n",
            "C(region2)[T.2]:perc_sma     0.5088      0.253      2.014      0.044       0.014       1.004\n",
            "C(region2)[T.3]:perc_sma     1.1309      0.335      3.379      0.001       0.475       1.787\n",
            "C(region2)[T.4]:perc_sma     0.3075      0.249      1.234      0.217      -0.181       0.796\n",
            "C(region2)[T.5]:perc_sma     0.1092      0.485      0.225      0.822      -0.841       1.060\n",
            "==============================================================================\n",
            "Omnibus:                        2.595   Durbin-Watson:                   1.177\n",
            "Prob(Omnibus):                  0.273   Jarque-Bera (JB):                2.386\n",
            "Skew:                           0.132   Prob(JB):                        0.303\n",
            "Kurtosis:                       3.214   Cond. No.                         85.1\n",
            "==============================================================================\n",
            "\n",
            "Warnings:\n",
            "[1] Standard Errors are heteroscedasticity robust (HC3)\n"
          ]
        }
      ],
      "source": [
        "mod_4 = ols(\"log_exp_cap ~ perc_sma + C(urban) + C(region2) + C(region2) : perc_sma\", data = df)\n",
        "res_4 = mod_4.fit(cov_type='HC3')\n",
        "print(res_4.summary())"
      ]
    },
    {
      "cell_type": "markdown",
      "metadata": {
        "id": "uvE639C5u46q"
      },
      "source": [
        "**9. *Interaction + Add `perc_formal` + Robust Standard Error***\n",
        "\n"
      ]
    },
    {
      "cell_type": "code",
      "execution_count": null,
      "metadata": {
        "colab": {
          "base_uri": "https://localhost:8080/"
        },
        "id": "YXFrMbeeu46q",
        "outputId": "9deb7147-3cac-43b2-e43a-7ab32c93f5a1"
      },
      "outputs": [
        {
          "output_type": "stream",
          "name": "stdout",
          "text": [
            "                            OLS Regression Results                            \n",
            "==============================================================================\n",
            "Dep. Variable:            log_exp_cap   R-squared:                       0.737\n",
            "Model:                            OLS   Adj. R-squared:                  0.729\n",
            "Method:                 Least Squares   F-statistic:                     96.73\n",
            "Date:                Sun, 27 Mar 2022   Prob (F-statistic):          3.66e-130\n",
            "Time:                        16:36:09   Log-Likelihood:                 260.29\n",
            "No. Observations:                 498   AIC:                            -490.6\n",
            "Df Residuals:                     483   BIC:                            -427.4\n",
            "Df Model:                          14                                         \n",
            "Covariance Type:            nonrobust                                         \n",
            "============================================================================================\n",
            "                               coef    std err          t      P>|t|      [0.025      0.975]\n",
            "--------------------------------------------------------------------------------------------\n",
            "Intercept                   13.2655      0.042    315.657      0.000      13.183      13.348\n",
            "C(urban)[T.1]                0.0204      0.018      1.114      0.266      -0.016       0.057\n",
            "C(urban)[T.2]                0.0090      0.033      0.273      0.785      -0.056       0.074\n",
            "C(region2)[T.1]             -0.2065      0.053     -3.910      0.000      -0.310      -0.103\n",
            "C(region2)[T.2]              0.0191      0.075      0.256      0.798      -0.127       0.166\n",
            "C(region2)[T.3]             -0.2875      0.077     -3.745      0.000      -0.438      -0.137\n",
            "C(region2)[T.4]             -0.1728      0.068     -2.554      0.011      -0.306      -0.040\n",
            "C(region2)[T.5]             -0.1363      0.114     -1.197      0.232      -0.360       0.087\n",
            "perc_sma                     1.0298      0.165      6.249      0.000       0.706       1.354\n",
            "C(region2)[T.1]:perc_sma     0.7083      0.181      3.917      0.000       0.353       1.064\n",
            "C(region2)[T.2]:perc_sma     0.4850      0.280      1.734      0.084      -0.065       1.035\n",
            "C(region2)[T.3]:perc_sma     0.8804      0.292      3.016      0.003       0.307       1.454\n",
            "C(region2)[T.4]:perc_sma     0.3081      0.248      1.241      0.215      -0.180       0.796\n",
            "C(region2)[T.5]:perc_sma     0.2094      0.409      0.512      0.609      -0.594       1.013\n",
            "perc_formal                  0.7636      0.075     10.219      0.000       0.617       0.910\n",
            "==============================================================================\n",
            "Omnibus:                        8.139   Durbin-Watson:                   1.367\n",
            "Prob(Omnibus):                  0.017   Jarque-Bera (JB):                9.686\n",
            "Skew:                           0.193   Prob(JB):                      0.00788\n",
            "Kurtosis:                       3.564   Cond. No.                         90.0\n",
            "==============================================================================\n",
            "\n",
            "Warnings:\n",
            "[1] Standard Errors assume that the covariance matrix of the errors is correctly specified.\n"
          ]
        }
      ],
      "source": [
        "mod_5 = ols(\"log_exp_cap ~ perc_sma + perc_formal + C(urban) + C(region2) + C(region2) : perc_sma\", data = df)\n",
        "res_5 = mod_5.fit()\n",
        "print(res_5.summary())"
      ]
    },
    {
      "cell_type": "markdown",
      "metadata": {
        "id": "7G72GHi6u46q"
      },
      "source": [
        "\n",
        "- adjusted r^2 meningkat brarti variabel perc_formal berpengaruh terhadap model\n",
        "- parameter estimasi untuk variabel perc_sma menurun saat menambah variabel perc_formal berarti banyak lulusan SMA yang yang bekerja di sektor formal\n",
        "- dengan aproksimasi setiap 1% kenaikan penduduk yang telah menyelesaikan min SMA di pulau Jawa lebih tinggi `0.7083*100%*0.01 = 0.7083%` dibandingkan Sumatera (baseline)\n"
      ]
    },
    {
      "cell_type": "code",
      "execution_count": null,
      "metadata": {
        "id": "BVYIKG78u46q"
      },
      "outputs": [],
      "source": []
    }
  ],
  "metadata": {
    "kernelspec": {
      "display_name": "Python 3",
      "language": "python",
      "name": "python3"
    },
    "language_info": {
      "codemirror_mode": {
        "name": "ipython",
        "version": 3
      },
      "file_extension": ".py",
      "mimetype": "text/x-python",
      "name": "python",
      "nbconvert_exporter": "python",
      "pygments_lexer": "ipython3",
      "version": "3.8.5"
    },
    "colab": {
      "provenance": []
    }
  },
  "nbformat": 4,
  "nbformat_minor": 0
}